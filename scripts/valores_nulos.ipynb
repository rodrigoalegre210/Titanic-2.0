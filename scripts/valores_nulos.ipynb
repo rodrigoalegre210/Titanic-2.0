{
 "cells": [
  {
   "cell_type": "code",
   "execution_count": 1,
   "metadata": {},
   "outputs": [],
   "source": [
    "import pandas as pd\n",
    "import numpy as np\n",
    "\n",
    "from sklearn.impute import KNNImputer"
   ]
  },
  {
   "cell_type": "code",
   "execution_count": 2,
   "metadata": {},
   "outputs": [],
   "source": [
    "# Cargamos los datos.\n",
    "train_data = pd.read_csv(r'C:\\Users\\rodri\\Desktop\\Titanic 2.0\\datos\\train.csv')\n",
    "test_data = pd.read_csv(r'C:\\Users\\rodri\\Desktop\\Titanic 2.0\\datos\\test.csv')"
   ]
  },
  {
   "cell_type": "markdown",
   "metadata": {},
   "source": [
    "---"
   ]
  },
  {
   "cell_type": "markdown",
   "metadata": {},
   "source": [
    "<center><h1>Imputación para la columna 'Age'.</h1></center>\n",
    "\n",
    "Sabemos que la columna 'Age' tiene los siguientes valores nulos:\n",
    "\n",
    "Datos faltantes en el dataset de entrenamiento: 177/891 (casi el 20%).  \n",
    "Datos faltantes en el dataset de prueba: 86/418 (aproximadamente el 20%).  \n",
    "\n",
    "Para resolver este problema, voy a usar KNN Imputer para estimar los valores faltantes de la edad en función de otras variables como 'Pclass', 'Sex', 'SibSp', 'Parch' y 'Fare'."
   ]
  },
  {
   "cell_type": "code",
   "execution_count": 3,
   "metadata": {},
   "outputs": [],
   "source": [
    "imputer = KNNImputer(n_neighbors = 5)"
   ]
  },
  {
   "cell_type": "code",
   "execution_count": 4,
   "metadata": {},
   "outputs": [],
   "source": [
    "# Convertimos la columna 'Sex' a valor numérico asignando 0 a los hombres y 1 a las mujeres.\n",
    "train_data['Sex'] = train_data['Sex'].map({'male': 0, 'female': 1})\n",
    "test_data['Sex'] = test_data['Sex'].map({'male': 0, 'female': 1})"
   ]
  },
  {
   "cell_type": "code",
   "execution_count": 5,
   "metadata": {},
   "outputs": [],
   "source": [
    "# Imputamos 'Age' en el dataset de entrenamiento.\n",
    "train_data['Age'] = imputer.fit_transform(train_data[['Age', 'Pclass', 'Sex', 'SibSp', 'Parch', 'Fare']])[:, 0]\n",
    "\n",
    "# Imputamos 'Age' en el dataset de prueba.\n",
    "test_data['Age'] = imputer.fit_transform(test_data[['Age', 'Pclass', 'Sex', 'SibSp', 'Parch', 'Fare']])[:, 0]"
   ]
  },
  {
   "cell_type": "code",
   "execution_count": 6,
   "metadata": {},
   "outputs": [
    {
     "name": "stdout",
     "output_type": "stream",
     "text": [
      "Valores nulos en 'Age':\n",
      "Entrenamiento: 0 | Prueba: 0\n"
     ]
    }
   ],
   "source": [
    "# Revisamos los valores faltantes en 'Age'.\n",
    "print(f\"Valores nulos en 'Age':\\nEntrenamiento: {train_data['Age'].isnull().sum()} | Prueba: {test_data['Age'].isnull().sum()}\")"
   ]
  },
  {
   "cell_type": "markdown",
   "metadata": {},
   "source": [
    "---"
   ]
  },
  {
   "cell_type": "markdown",
   "metadata": {},
   "source": [
    "<center><h1>Imputación para la columna 'Cabin'.</h1></center>\n",
    "\n",
    "Sabemos que la columna 'Cabin' tiene los siguientes valores nulos:\n",
    "\n",
    "Datos faltantes en el dataset de entrenamiento: 687/891 (casi el 77%).  \n",
    "Datos faltantes en el dataset de prueba: 327/418 (aprox. el 78%).\n",
    "\n",
    "Ya que la cantidad de valores nulos dentro de esta variable, la imputación puede que no sea efectiva. Normalmente, si una columna no es necesaria para nuestros analisis o modelos, se elimina. Pero también podríamos crear una nueva variable binaria donde 1 indique que el pasajero tiene un número de cabina conocido, y 0 que no."
   ]
  },
  {
   "cell_type": "code",
   "execution_count": 7,
   "metadata": {},
   "outputs": [],
   "source": [
    "# Creamos la columna 'TieneCabina' como variable binaria.\n",
    "train_data['TieneCabina'] = train_data['Cabin'].apply(lambda x: 0 if pd.isnull(x) else 1)\n",
    "test_data['TieneCabina'] = test_data['Cabin'].apply(lambda x: 0 if pd.isnull(x) else 1)"
   ]
  },
  {
   "cell_type": "markdown",
   "metadata": {},
   "source": [
    "Como se comentó anteriormente, existe la posibilidad de que eliminemos estas columnas si es que no tienen algún impacto significativo en los análisis."
   ]
  },
  {
   "cell_type": "markdown",
   "metadata": {},
   "source": [
    "---"
   ]
  },
  {
   "cell_type": "markdown",
   "metadata": {},
   "source": [
    "<center><h1>Imputación para la columna 'Embarked'.</h1></center>\n",
    "\n",
    "Sabemos que la columna 'Embarked' tiene los siguientes valores nulos:\n",
    "\n",
    "Datos faltantes en el dataset de entrenamiento: 2/891\n",
    "\n",
    "Como los valores nulos en esta columna son solo 2, podemos simplemente imputar los valores faltantes con la **moda** (valor más frecuente)."
   ]
  },
  {
   "cell_type": "markdown",
   "metadata": {},
   "source": [
    "### Observación.\n",
    "\n",
    "Para realizar este paso, se intentó usar el siguiente código:\n",
    "\n",
    "embarked_mas_frecuente = train_data['Embarked'].mode()[0]  \n",
    "train_data['Embarked'].fillna(embarked_mas_frecuente, inplace = True)\n",
    "\n",
    "El cual no tuvo problemas en hacer lo que se busca, pero pandas me imprimió un mensaje al correr el código:\n",
    "\n",
    "**FutureWarning: A value is trying to be set on a copy of a DataFrame or Series through chained assignment using an inplace method.**\n",
    "**The behavior will change in pandas 3.0. This inplace method will never work because the intermediate object on which we are setting values always behaves as a copy.**\n",
    "\n",
    "**For example, when doing 'df[col].method(value, inplace=True)', try using 'df.method({col: value}, inplace=True)' or df[col] = df[col].method(value) instead, to perform the operation inplace on the original object.**\n",
    "\n",
    "Así que vamos a usar una de las dos recomendaciones que nos aparece en el mensaje."
   ]
  },
  {
   "cell_type": "code",
   "execution_count": 8,
   "metadata": {},
   "outputs": [],
   "source": [
    "embarked_mas_frecuente = train_data['Embarked'].mode()[0]\n",
    "train_data['Embarked'] = train_data['Embarked'].fillna(embarked_mas_frecuente)"
   ]
  },
  {
   "cell_type": "markdown",
   "metadata": {},
   "source": [
    "---"
   ]
  },
  {
   "cell_type": "markdown",
   "metadata": {},
   "source": [
    "<center><h1>Imputación para la columna 'Fare'.</h1></center>\n",
    "\n",
    "Sabemos que la columna 'Fare' tiene los siguientes valores nulos:\n",
    "\n",
    "Datos faltantes en el dataset de prueba: 1/418\n",
    "\n",
    "Al ser un valor númerico y solo tener 1 dato faltante, podemos imputarlo con la mediana de las tarifas."
   ]
  },
  {
   "cell_type": "code",
   "execution_count": 9,
   "metadata": {},
   "outputs": [],
   "source": [
    "fare_mediana = test_data['Fare'].median()\n",
    "test_data['Fare'] = test_data['Fare'].fillna(fare_mediana)"
   ]
  },
  {
   "cell_type": "markdown",
   "metadata": {},
   "source": [
    "---"
   ]
  },
  {
   "cell_type": "markdown",
   "metadata": {},
   "source": [
    "### Verificamos los valores nulos de ambos datasets."
   ]
  },
  {
   "cell_type": "code",
   "execution_count": 10,
   "metadata": {},
   "outputs": [
    {
     "name": "stdout",
     "output_type": "stream",
     "text": [
      "Valores nulos en el dataset de entrenamiento:\n"
     ]
    },
    {
     "data": {
      "text/plain": [
       "PassengerId      0\n",
       "Survived         0\n",
       "Pclass           0\n",
       "Name             0\n",
       "Sex              0\n",
       "Age              0\n",
       "SibSp            0\n",
       "Parch            0\n",
       "Ticket           0\n",
       "Fare             0\n",
       "Cabin          687\n",
       "Embarked         0\n",
       "TieneCabina      0\n",
       "dtype: int64"
      ]
     },
     "execution_count": 10,
     "metadata": {},
     "output_type": "execute_result"
    }
   ],
   "source": [
    "print('Valores nulos en el dataset de entrenamiento:')\n",
    "train_data.isnull().sum()"
   ]
  },
  {
   "cell_type": "code",
   "execution_count": 11,
   "metadata": {},
   "outputs": [
    {
     "name": "stdout",
     "output_type": "stream",
     "text": [
      "Valores nulos en el dataset de prueba:\n"
     ]
    },
    {
     "data": {
      "text/plain": [
       "PassengerId      0\n",
       "Pclass           0\n",
       "Name             0\n",
       "Sex              0\n",
       "Age              0\n",
       "SibSp            0\n",
       "Parch            0\n",
       "Ticket           0\n",
       "Fare             0\n",
       "Cabin          327\n",
       "Embarked         0\n",
       "TieneCabina      0\n",
       "dtype: int64"
      ]
     },
     "execution_count": 11,
     "metadata": {},
     "output_type": "execute_result"
    }
   ],
   "source": [
    "print('Valores nulos en el dataset de prueba:')\n",
    "test_data.isnull().sum()"
   ]
  },
  {
   "cell_type": "markdown",
   "metadata": {},
   "source": [
    "*Nota importante*\n",
    "\n",
    "Recordemos que la columna 'Cabin' no fue imputada, sino que se creó una columna binaria que indica con 1 si el pasajero tiene un número de cabina conocido, o 0 si no lo tiene."
   ]
  },
  {
   "cell_type": "markdown",
   "metadata": {},
   "source": [
    "---"
   ]
  },
  {
   "cell_type": "markdown",
   "metadata": {},
   "source": [
    "### Guardamos los datasets procesados."
   ]
  },
  {
   "cell_type": "code",
   "execution_count": 12,
   "metadata": {},
   "outputs": [],
   "source": [
    "train_data.to_csv(r'\\Users\\rodri\\Desktop\\Titanic 2.0\\datos\\train_sin_nulos.csv', index = False)\n",
    "test_data.to_csv(r'\\Users\\rodri\\Desktop\\Titanic 2.0\\datos\\test_sin_nulos.csv', index = False)"
   ]
  }
 ],
 "metadata": {
  "kernelspec": {
   "display_name": "Python 3",
   "language": "python",
   "name": "python3"
  },
  "language_info": {
   "codemirror_mode": {
    "name": "ipython",
    "version": 3
   },
   "file_extension": ".py",
   "mimetype": "text/x-python",
   "name": "python",
   "nbconvert_exporter": "python",
   "pygments_lexer": "ipython3",
   "version": "3.12.5"
  }
 },
 "nbformat": 4,
 "nbformat_minor": 2
}
